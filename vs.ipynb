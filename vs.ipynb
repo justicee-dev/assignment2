{
  "cells": [
    {
      "cell_type": "markdown",
      "metadata": {
        "id": "view-in-github",
        "colab_type": "text"
      },
      "source": [
        "<a href=\"https://colab.research.google.com/github/justicee-dev/assignment2/blob/main/vs.ipynb\" target=\"_parent\"><img src=\"https://colab.research.google.com/assets/colab-badge.svg\" alt=\"Open In Colab\"/></a>"
      ]
    },
    {
      "cell_type": "markdown",
      "metadata": {
        "id": "B4GUrGtqLoVi"
      },
      "source": [
        "# Introduction to Variables: Strings and Numeric Types - CodeAlong\n",
        "\n",
        "## Introduction\n",
        "Now that we have learned about working with different types of data in Python: strings, numbers (ints and floats), and booleans, let's put that knowledge to the test. In this lab we'll imagine that we were at a nice social gathering and exchanged business cards with a few people. One of the business cards belongs to Art Vandelay, a new travel agent. We want to use our programming skills to format this information correctly.\n",
        "\n",
        "## Objectives\n",
        "\n",
        "You will be able to:\n",
        "\n",
        "* Apply string methods to make changes to a string\n",
        "* Use concatenation to combine strings\n",
        "* Perform basic mathematical operations with numeric data types\n",
        "\n",
        "## Instructions\n",
        "\n",
        "The next morning we take out the business card, ready to format it using our programming skills, and here is what we find.\n",
        "\n",
        "![](https://learn-verified.s3.amazonaws.com/data-science-assets/biz-card-mistakes.jpg)\n",
        "\n",
        "Yeah, Mr. Vandelay may not be the best at designing business cards, but like Mr. Vandelay, we know that people enter incorrect information on forms all the time.\n",
        "\n",
        "So as Data Scientists, we often need to clean and organize data before we can make sense of it.  Let's get to work.\n",
        "\n",
        "In this exercise, we'll see that there is some data already provided for us.  Next to the data, we will see a comment indicating what the data should look like after we change it.  \n",
        "\n",
        "> Comments are indicated in Python by a `#` followed by text. They do not get run and will not affect our code. Here we are using them to show what the intended output should be.\n",
        "\n",
        "For example, let's say we want to capitalize all of the letters of \"art vandelay\".  We'll see the following:"
      ]
    },
    {
      "cell_type": "code",
      "execution_count": null,
      "metadata": {
        "collapsed": true,
        "id": "fSLHLxH2LoVk",
        "colab": {
          "base_uri": "https://localhost:8080/",
          "height": 35
        },
        "outputId": "ef9d0e44-169d-4bf4-c9ea-c0c363d899c4"
      },
      "outputs": [
        {
          "output_type": "execute_result",
          "data": {
            "text/plain": [
              "'ART VANDELAY'"
            ],
            "application/vnd.google.colaboratory.intrinsic+json": {
              "type": "string"
            }
          },
          "metadata": {},
          "execution_count": 10
        }
      ],
      "source": [
        "#\"art vandelay\" # \"ART VANDELAY\"\n",
        "name=\"art vandelay\"\n",
        "name.upper()\n"
      ]
    },
    {
      "cell_type": "markdown",
      "metadata": {
        "id": "hFMhkjfuLoVk"
      },
      "source": [
        "> **Reminder:** *to **run** the code in a jupyter notebook, press shift + enter after selecting the cell you would like to run.*\n",
        "\n",
        "To get our output to match the comment we can use the `upper()` method as shown here:"
      ]
    },
    {
      "cell_type": "code",
      "execution_count": null,
      "metadata": {
        "collapsed": true,
        "id": "mYK463DcLoVk"
      },
      "outputs": [],
      "source": [
        "\"art vandelay\".upper() # 'ART VANDELAY'"
      ]
    },
    {
      "cell_type": "markdown",
      "metadata": {
        "id": "TsnVy0bgLoVl"
      },
      "source": [
        "## Get Going with Strings\n",
        "\n",
        "Our first problem will be to capitalize the first letter of each word in `\"art vandelay\"`. Find the correct string method to capitalize both the first and last names."
      ]
    },
    {
      "cell_type": "code",
      "execution_count": null,
      "metadata": {
        "collapsed": true,
        "id": "EaJtRY9lLoVl"
      },
      "outputs": [],
      "source": [
        "art_vandelay = \"art vandelay\" # 'Art Vandelay'\n",
        "art_vandelay\n",
        "art_vandelay.title()"
      ]
    },
    {
      "cell_type": "markdown",
      "metadata": {
        "id": "REcO4lfLLoVl"
      },
      "source": [
        "Now let's turn all the letters of \"Ceo\" to uppercase."
      ]
    },
    {
      "cell_type": "code",
      "execution_count": null,
      "metadata": {
        "collapsed": true,
        "id": "a7wvWcZvLoVl"
      },
      "outputs": [],
      "source": [
        "ceo = \"Ceo\" # 'CEO'\n",
        "ceo\n",
        "ceo.upper()"
      ]
    },
    {
      "cell_type": "markdown",
      "metadata": {
        "id": "HZR0Sq6hLoVl"
      },
      "source": [
        "Next we will need our code to answer a question about email addresses. Every email address should end with \".com\". Find the right string method to check if the email address ends with `\".com\"` and return `True` or `False` accordingly."
      ]
    },
    {
      "cell_type": "code",
      "execution_count": 1,
      "metadata": {
        "collapsed": true,
        "id": "SXGRpRtXLoVl",
        "colab": {
          "base_uri": "https://localhost:8080/"
        },
        "outputId": "3f363ee5-f70f-49db-8a6e-b037f7259e02"
      },
      "outputs": [
        {
          "output_type": "stream",
          "name": "stdout",
          "text": [
            "False\n"
          ]
        }
      ],
      "source": [
        "ends_with_com = \"art.vandelay@vandelay.co\" # False\n",
        "ends_with_com\n",
        "print(\"com\"in ends_with_com)"
      ]
    },
    {
      "cell_type": "markdown",
      "metadata": {
        "id": "6Bzegk3LLoVl"
      },
      "source": [
        "As you can see below, the website `\"vandelay.com\"` is not preceded by `\"www.\"`. We can perform what is called string concatenation to fix this! Use the plus sign, `'+'`, to change the website `'vandelay.com'` to the string `'www.vandelay.com'` by prepending `'www.'`."
      ]
    },
    {
      "cell_type": "code",
      "execution_count": 3,
      "metadata": {
        "collapsed": true,
        "scrolled": true,
        "id": "MZ3nvCtmLoVm",
        "colab": {
          "base_uri": "https://localhost:8080/"
        },
        "outputId": "b8b4173f-3611-4c6d-a179-9ab39d17cf6a"
      },
      "outputs": [
        {
          "output_type": "stream",
          "name": "stdout",
          "text": [
            "wwwvandelay.com\n"
          ]
        }
      ],
      "source": [
        "web_address = 'vandelay.com' # 'www.vandelay.com'\n",
        "web_address\n",
        "print(\"www\"+web_address)"
      ]
    },
    {
      "cell_type": "markdown",
      "metadata": {
        "id": "jg2at6zFLoVm"
      },
      "source": [
        "## Working with Numbers\n",
        "\n",
        "Finally, Mr. Vandelay gave us his phone number, but he actually has two other phone numbers that are different from the one listed on his business card.  All three numbers are basically the same with the exception of the ending. Below, start by coercing the first phone number, which is currently a string, to an `int` and add one. Next do the same to the second phone number but increase it by two."
      ]
    },
    {
      "cell_type": "code",
      "execution_count": 5,
      "metadata": {
        "collapsed": true,
        "id": "xX7Zm1o-LoVm",
        "colab": {
          "base_uri": "https://localhost:8080/"
        },
        "outputId": "1139873d-60c2-4dbf-85ce-e33739d84989"
      },
      "outputs": [
        {
          "output_type": "execute_result",
          "data": {
            "text/plain": [
              "7285553335"
            ]
          },
          "metadata": {},
          "execution_count": 5
        }
      ],
      "source": [
        "phone_num_one = \"7285553334\" # 7285553335\n",
        "phone_num_one\n",
        "int(phone_num_one)+1"
      ]
    },
    {
      "cell_type": "code",
      "execution_count": 6,
      "metadata": {
        "collapsed": true,
        "id": "AmEF6guNLoVm",
        "colab": {
          "base_uri": "https://localhost:8080/"
        },
        "outputId": "65105a2a-afe4-47f9-b546-c0ce47a5f194"
      },
      "outputs": [
        {
          "output_type": "execute_result",
          "data": {
            "text/plain": [
              "7285553336"
            ]
          },
          "metadata": {},
          "execution_count": 6
        }
      ],
      "source": [
        "phone_num_two = \"7285553334\" # 7285553336\n",
        "phone_num_two\n",
        "int(phone_num_two)+2"
      ]
    },
    {
      "cell_type": "markdown",
      "metadata": {
        "id": "Q-VN9wNzLoVm"
      },
      "source": [
        "## Summary\n",
        "\n",
        "In this lab, we practiced working with string methods to operate on and answer questions about strings. We wrote methods that return Booleans and changed strings to integers in order to perform addition. So much of working with data is ensuring that it is properly formatted so we can then operate on it, and in this lab, we saw how to use code to do just that."
      ]
    }
  ],
  "metadata": {
    "kernelspec": {
      "display_name": "Python 3",
      "language": "python",
      "name": "python3"
    },
    "language_info": {
      "codemirror_mode": {
        "name": "ipython",
        "version": 3
      },
      "file_extension": ".py",
      "mimetype": "text/x-python",
      "name": "python",
      "nbconvert_exporter": "python",
      "pygments_lexer": "ipython3",
      "version": "3.8.5"
    },
    "toc": {
      "base_numbering": 1,
      "nav_menu": {},
      "number_sections": true,
      "sideBar": true,
      "skip_h1_title": false,
      "title_cell": "Table of Contents",
      "title_sidebar": "Contents",
      "toc_cell": false,
      "toc_position": {},
      "toc_section_display": true,
      "toc_window_display": false
    },
    "colab": {
      "provenance": [],
      "include_colab_link": true
    }
  },
  "nbformat": 4,
  "nbformat_minor": 0
}