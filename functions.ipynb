{
  "cells": [
    {
      "cell_type": "markdown",
      "metadata": {
        "id": "view-in-github",
        "colab_type": "text"
      },
      "source": [
        "<a href=\"https://colab.research.google.com/github/justicee-dev/assignment2/blob/main/functions.ipynb\" target=\"_parent\"><img src=\"https://colab.research.google.com/assets/colab-badge.svg\" alt=\"Open In Colab\"/></a>"
      ]
    },
    {
      "cell_type": "markdown",
      "metadata": {
        "id": "se-w7osFZDc1"
      },
      "source": [
        "# Creating Functions - Lab"
      ]
    },
    {
      "cell_type": "markdown",
      "metadata": {
        "id": "_qz9MPXKZDc2"
      },
      "source": [
        "## Introduction\n",
        "\n",
        "As you know, we can use functions to name snippets of our code, thus making our code more expressive. We can also use functions to allow us to reuse our code. In this lab we will practice using functions for both of those purposes."
      ]
    },
    {
      "cell_type": "markdown",
      "metadata": {
        "id": "jbYWjnD3ZDc3"
      },
      "source": [
        "## Objectives\n",
        "\n",
        "You will be able to:\n",
        "\n",
        "* Declare and use a basic function"
      ]
    },
    {
      "cell_type": "markdown",
      "metadata": {
        "id": "tKkUYycPZDc3"
      },
      "source": [
        "## Instructions:\n",
        "### Writing our first functions"
      ]
    },
    {
      "cell_type": "markdown",
      "metadata": {
        "id": "RZmYYbP9ZDc3"
      },
      "source": [
        "Imagine we are creating a list of travel destinations -- which can really turn out to be a full time job if we like to travel. We have our list of `travel_destinations` which we assign below. Write a function called `number_of_destinations()` that returns the number of destinations we have on our list."
      ]
    },
    {
      "cell_type": "code",
      "execution_count": 13,
      "metadata": {
        "id": "i_OhFwJDZDc3",
        "outputId": "c0c0058b-f250-48d1-ce0e-c8906c2e7f23",
        "colab": {
          "base_uri": "https://localhost:8080/"
        }
      },
      "outputs": [
        {
          "output_type": "execute_result",
          "data": {
            "text/plain": [
              "6"
            ]
          },
          "metadata": {},
          "execution_count": 13
        }
      ],
      "source": [
        "def number_of_desitinations():\n",
        "\n",
        "  travel_destinations = ['argentina', 'mexico', 'italy', 'finland', 'canada', 'croatia']\n",
        "\n",
        "  return len(travel_destinations)\n",
        "\n",
        "number_of_desitinations()\n",
        "\n"
      ]
    },
    {
      "cell_type": "markdown",
      "metadata": {
        "id": "N3FzrQ5pZDc4"
      },
      "source": [
        "> Below, remove the first `#` to uncomment the following line(s) of code and then press `shift` + `enter` to run the cell"
      ]
    },
    {
      "cell_type": "code",
      "execution_count": 15,
      "metadata": {
        "id": "C4HZpNmKZDc4"
      },
      "outputs": [],
      "source": [
        " #number_of_destinations()"
      ]
    },
    {
      "cell_type": "markdown",
      "metadata": {
        "id": "V4m-7kdrZDc4"
      },
      "source": [
        "Now write another function called `next_up()` that returns our first destination (the destination with the lowest index), in the `list_of_destinations` list."
      ]
    },
    {
      "cell_type": "code",
      "execution_count": 33,
      "metadata": {
        "id": "yG9QzYUEZDc4",
        "outputId": "21d6b66f-4379-4ec0-ce37-0ba49c97fca2",
        "colab": {
          "base_uri": "https://localhost:8080/",
          "height": 35
        }
      },
      "outputs": [
        {
          "output_type": "execute_result",
          "data": {
            "text/plain": [
              "'argentina'"
            ],
            "application/vnd.google.colaboratory.intrinsic+json": {
              "type": "string"
            }
          },
          "metadata": {},
          "execution_count": 33
        }
      ],
      "source": [
        "# define function here\n",
        "def next_up():\n",
        "  travel_destinations = ['argentina', 'mexico', 'italy', 'finland', 'canada', 'croatia']\n",
        "  return travel_destinations[0]\n",
        "next_up()"
      ]
    },
    {
      "cell_type": "markdown",
      "metadata": {
        "id": "XTuhl7EYZDc4"
      },
      "source": [
        "Next, run your new function"
      ]
    },
    {
      "cell_type": "code",
      "execution_count": 21,
      "metadata": {
        "id": "vPZcgbBcZDc4",
        "outputId": "b8d3a566-06ef-4724-e507-f9daad26713a",
        "colab": {
          "base_uri": "https://localhost:8080/",
          "height": 35
        }
      },
      "outputs": [
        {
          "output_type": "execute_result",
          "data": {
            "text/plain": [
              "'argentina'"
            ],
            "application/vnd.google.colaboratory.intrinsic+json": {
              "type": "string"
            }
          },
          "metadata": {},
          "execution_count": 21
        }
      ],
      "source": [
        "def number() :\n",
        " list_of_destinations = ['argentina', 'canada', 'croatia']\n",
        "\n",
        "\n",
        " return list_of_destinations[0]\n",
        "number()\n",
        "# Your code here\n",
        "# Expected output:'argentina'"
      ]
    },
    {
      "cell_type": "markdown",
      "metadata": {
        "id": "9c3EMoGQZDc4"
      },
      "source": [
        "Ok, now write a function called `favorite_destination()` that returns the string `'madagascar'`."
      ]
    },
    {
      "cell_type": "code",
      "execution_count": 34,
      "metadata": {
        "id": "XcBtycOPZDc5"
      },
      "outputs": [],
      "source": [
        "# define function here\n",
        "def favorite_destination():\n",
        "  return 'madagascar'\n",
        "\n"
      ]
    },
    {
      "cell_type": "markdown",
      "metadata": {
        "id": "7tTpKoSfZDc5"
      },
      "source": [
        "Next, run your new function"
      ]
    },
    {
      "cell_type": "code",
      "execution_count": 35,
      "metadata": {
        "id": "x2ceuGhrZDc5",
        "outputId": "f92397cf-a8c5-44f1-ee5c-7bc917b6290b",
        "colab": {
          "base_uri": "https://localhost:8080/",
          "height": 35
        }
      },
      "outputs": [
        {
          "output_type": "execute_result",
          "data": {
            "text/plain": [
              "'madagascar'"
            ],
            "application/vnd.google.colaboratory.intrinsic+json": {
              "type": "string"
            }
          },
          "metadata": {},
          "execution_count": 35
        }
      ],
      "source": [
        "# Your code here\n",
        "favorite_destination()\n",
        "# Expected output:'madagascar'"
      ]
    },
    {
      "cell_type": "markdown",
      "metadata": {
        "id": "0BRwFNI3ZDc5"
      },
      "source": [
        "Again, let's declare a list called `favorite_destinations`. Write a new function called `add_favorite_destination()` that adds the string `'madagascar'` to the end of `favorite_destinations` and also returns the string `'madagascar'`."
      ]
    },
    {
      "cell_type": "code",
      "execution_count": 41,
      "metadata": {
        "id": "na3CzS4JZDc5",
        "outputId": "aab59e81-72d7-44dc-d267-efa1a1951ed4",
        "colab": {
          "base_uri": "https://localhost:8080/",
          "height": 35
        }
      },
      "outputs": [
        {
          "output_type": "execute_result",
          "data": {
            "text/plain": [
              "'madagascar'"
            ],
            "application/vnd.google.colaboratory.intrinsic+json": {
              "type": "string"
            }
          },
          "metadata": {},
          "execution_count": 41
        }
      ],
      "source": [
        "# define function here\n",
        "def add_favourite_destination():\n",
        "  favorite_destinations = ['argentina', 'mexico', 'italy', 'finland', 'canada', 'croatia']\n",
        "  favorite_destinations.append('madagascar')\n",
        "  return favorite_destinations[-1]\n"
      ]
    },
    {
      "cell_type": "markdown",
      "metadata": {
        "id": "DtAIYfeDZDc5"
      },
      "source": [
        "Next, run your new function"
      ]
    },
    {
      "cell_type": "code",
      "execution_count": 42,
      "metadata": {
        "id": "byjDAnNLZDc5",
        "outputId": "f9f85d3a-d7e1-4c28-dfca-7024df5be4da",
        "colab": {
          "base_uri": "https://localhost:8080/",
          "height": 35
        }
      },
      "outputs": [
        {
          "output_type": "execute_result",
          "data": {
            "text/plain": [
              "'madagascar'"
            ],
            "application/vnd.google.colaboratory.intrinsic+json": {
              "type": "string"
            }
          },
          "metadata": {},
          "execution_count": 42
        }
      ],
      "source": [
        "add_favourite_destination()"
      ]
    },
    {
      "cell_type": "markdown",
      "metadata": {
        "id": "MKsBjrkEZDc5"
      },
      "source": [
        "Now let's write another function called `capitalize_countries()` which iterates through the list of `capitalized_destinations` and capitalizes the first letter of each word. It should return a list of capitalized destinations."
      ]
    },
    {
      "cell_type": "code",
      "execution_count": 52,
      "metadata": {
        "id": "t6AZEnf1ZDc5"
      },
      "outputs": [],
      "source": [
        "\n",
        "def capitalized_countries():\n",
        "\n",
        "  capitalized_destinations = ['argentina', 'mexico', 'italy', 'finland', 'canada', 'croatia']\n",
        "\n",
        "  for x in capitalized_destinations:\n",
        "   capitalized_destinations=x.capitalize()\n",
        "   print(capitalized_destinations)\n",
        "\n",
        "\n",
        "  return capitalized_destinations\n",
        "# define function here"
      ]
    },
    {
      "cell_type": "markdown",
      "metadata": {
        "id": "M0lwX24fZDc5"
      },
      "source": [
        "Next, run your new function"
      ]
    },
    {
      "cell_type": "code",
      "execution_count": 53,
      "metadata": {
        "id": "SaG9jdGtZDc5",
        "outputId": "1daa26ab-50af-4d5b-9e30-27e9ec7e9d7e",
        "colab": {
          "base_uri": "https://localhost:8080/"
        }
      },
      "outputs": [
        {
          "output_type": "stream",
          "name": "stdout",
          "text": [
            "Argentina\n",
            "Mexico\n",
            "Italy\n",
            "Finland\n",
            "Canada\n",
            "Croatia\n",
            "Croatia\n"
          ]
        }
      ],
      "source": [
        "# Your code here # ['Argentina', 'Mexico', 'Italy', 'Finland', 'Canada', 'Croatia']\n",
        "print(capitalized_countries())"
      ]
    },
    {
      "cell_type": "markdown",
      "metadata": {
        "id": "ELcvdyP4ZDc6"
      },
      "source": [
        "Great! Now if someone adds a country that is lowercased to our list of destinations, we can simply call our function again to capitalize each of the destinations in the list."
      ]
    },
    {
      "cell_type": "markdown",
      "metadata": {
        "id": "2ZnckNN7ZDc6"
      },
      "source": [
        "## Summary"
      ]
    },
    {
      "cell_type": "markdown",
      "metadata": {
        "id": "IEQ9gjE-ZDc6"
      },
      "source": [
        "Great job! In this lab we were able to get practice both creating and returning values from functions."
      ]
    }
  ],
  "metadata": {
    "kernelspec": {
      "display_name": "Python (learn-env)",
      "language": "python",
      "name": "learn-env"
    },
    "language_info": {
      "codemirror_mode": {
        "name": "ipython",
        "version": 3
      },
      "file_extension": ".py",
      "mimetype": "text/x-python",
      "name": "python",
      "nbconvert_exporter": "python",
      "pygments_lexer": "ipython3",
      "version": "3.8.5"
    },
    "toc": {
      "base_numbering": 1,
      "nav_menu": {},
      "number_sections": true,
      "sideBar": true,
      "skip_h1_title": false,
      "title_cell": "Table of Contents",
      "title_sidebar": "Contents",
      "toc_cell": false,
      "toc_position": {},
      "toc_section_display": true,
      "toc_window_display": false
    },
    "colab": {
      "provenance": [],
      "name": "functions.ipynb",
      "include_colab_link": true
    }
  },
  "nbformat": 4,
  "nbformat_minor": 0
}