{
  "cells": [
    {
      "cell_type": "markdown",
      "metadata": {
        "id": "view-in-github",
        "colab_type": "text"
      },
      "source": [
        "<a href=\"https://colab.research.google.com/github/justicee-dev/assignment2/blob/main/nestedloops.ipynb\" target=\"_parent\"><img src=\"https://colab.research.google.com/assets/colab-badge.svg\" alt=\"Open In Colab\"/></a>"
      ]
    },
    {
      "cell_type": "markdown",
      "metadata": {
        "id": "ri6IV5NGYNCp"
      },
      "source": [
        "# Using Nested Loops - Lab"
      ]
    },
    {
      "cell_type": "markdown",
      "metadata": {
        "id": "bTTQiVmBYNCr"
      },
      "source": [
        "## Introduction\n",
        "In this lab, you'll practice using nested loops to iterate over nested data structures and create new collections. To do this, you'll be using data from a soccer match to practice our nested loops."
      ]
    },
    {
      "cell_type": "markdown",
      "metadata": {
        "id": "W5Mrs7ezYNCr"
      },
      "source": [
        "## Objectives\n",
        "\n",
        "You will be able to:\n",
        "\n",
        "* Use a nested loop when it is appropriate"
      ]
    },
    {
      "cell_type": "markdown",
      "metadata": {
        "id": "bzqIxl5IYNCs"
      },
      "source": [
        "## Instructions"
      ]
    },
    {
      "cell_type": "markdown",
      "metadata": {
        "id": "8oSwMc42YNCs"
      },
      "source": [
        "Use nested loops and the below object, `soccer_match`, to complete the following prompts and get the desired return values."
      ]
    },
    {
      "cell_type": "code",
      "execution_count": 1,
      "metadata": {
        "id": "nTvz3oziYNCs"
      },
      "outputs": [],
      "source": [
        "# Run this cell without changes\n",
        "soccer_match = [\n",
        "  { \"home_team\": True,\n",
        "    \"away_team\": False,\n",
        "    \"country\": \"France\",\n",
        "    \"num_passes\": 484,\n",
        "    \"passes_completed\": 423,\n",
        "    \"fouls_committed\": 16,\n",
        "    \"colors\": [\"blue\", \"white\", \"red\"],\n",
        "    \"players\": [\n",
        "      {\n",
        "        \"name\": \"Hugo LLORIS\",\n",
        "        \"captain\": True,\n",
        "        \"shirt_number\": 1,\n",
        "        \"position\": \"Goalie\"\n",
        "      },\n",
        "      {\n",
        "        \"name\": \"Benjamin PAVARD\",\n",
        "        \"captain\": False,\n",
        "        \"shirt_number\": 2,\n",
        "        \"position\": \"Defender\"\n",
        "      },\n",
        "      {\n",
        "        \"name\": \"Raphael VARANE\",\n",
        "        \"captain\": False,\n",
        "        \"shirt_number\": 4,\n",
        "        \"position\": \"Defender\"\n",
        "      },\n",
        "      {\n",
        "        \"name\": \"Samuel UMTITI\",\n",
        "        \"captain\": False,\n",
        "        \"shirt_number\": 5,\n",
        "        \"position\": \"Defender\"\n",
        "      },\n",
        "      {\n",
        "        \"name\": \"Paul POGBA\",\n",
        "        \"captain\": False,\n",
        "        \"shirt_number\": 6,\n",
        "        \"position\": \"Midfield\"\n",
        "      },\n",
        "      {\n",
        "        \"name\": \"Antoine GRIEZMANN\",\n",
        "        \"captain\": False,\n",
        "        \"shirt_number\": 7,\n",
        "        \"position\": \"Forward\"\n",
        "      },\n",
        "      {\n",
        "        \"name\": \"Kylian MBAPPE\",\n",
        "        \"captain\": False,\n",
        "        \"shirt_number\": 10,\n",
        "        \"position\": \"Forward\"\n",
        "      },\n",
        "      {\n",
        "        \"name\": \"Ousmane DEMBELE\",\n",
        "        \"captain\": False,\n",
        "        \"shirt_number\": 11,\n",
        "        \"position\": \"Forward\"\n",
        "      },\n",
        "      {\n",
        "        \"name\": \"Corentin TOLISSO\",\n",
        "        \"captain\": False,\n",
        "        \"shirt_number\": 12,\n",
        "        \"position\": \"Midfield\"\n",
        "      },\n",
        "      {\n",
        "        \"name\": \"Ngolo KANTE\",\n",
        "        \"captain\": False,\n",
        "        \"shirt_number\": 13,\n",
        "        \"position\": \"Midfield\"\n",
        "      },\n",
        "      {\n",
        "        \"name\": \"Lucas HERNANDEZ\",\n",
        "        \"captain\": False,\n",
        "        \"shirt_number\": 21,\n",
        "        \"position\": \"Defender\"\n",
        "      }\n",
        "    ],\n",
        "  },\n",
        "  { \"home_team\": False,\n",
        "    \"away_team\": True,\n",
        "    \"country\": \"Australia\",\n",
        "    \"num_passes\": 390,\n",
        "    \"passes_completed\": 332,\n",
        "    \"fouls_committed\": 19,\n",
        "    \"colors\": [\"green\", \"gold\"],\n",
        "    \"players\": [\n",
        "      {\n",
        "        \"name\": \"Mathew RYAN\",\n",
        "        \"captain\": False,\n",
        "        \"shirt_number\": 1,\n",
        "        \"position\": \"Goalie\"\n",
        "      },\n",
        "      {\n",
        "        \"name\": \"Mark MILLIGAN\",\n",
        "        \"captain\": False,\n",
        "        \"shirt_number\": 5,\n",
        "        \"position\": \"Defender\"\n",
        "      },\n",
        "      {\n",
        "        \"name\": \"Mathew LECKIE\",\n",
        "        \"captain\": False,\n",
        "        \"shirt_number\": 7,\n",
        "        \"position\": \"Forward\"\n",
        "      },\n",
        "      {\n",
        "        \"name\": \"Robbie KRUSE\",\n",
        "        \"captain\": False,\n",
        "        \"shirt_number\": 10,\n",
        "        \"position\": \"Forward\"\n",
        "      },\n",
        "      {\n",
        "        \"name\": \"Andrew NABBOUT\",\n",
        "        \"captain\": False,\n",
        "        \"shirt_number\": 11,\n",
        "        \"position\": \"Forward\"\n",
        "      },\n",
        "      {\n",
        "        \"name\": \"Aaron MOOY\",\n",
        "        \"captain\": False,\n",
        "        \"shirt_number\": 13,\n",
        "        \"position\": \"Midfield\"\n",
        "      },\n",
        "      {\n",
        "        \"name\": \"Mile JEDINAK\",\n",
        "        \"captain\": True,\n",
        "        \"shirt_number\": 15,\n",
        "        \"position\": \"Midfield\"\n",
        "      },\n",
        "      {\n",
        "        \"name\": \"Aziz BEHICH\",\n",
        "        \"captain\": False,\n",
        "        \"shirt_number\": 16,\n",
        "        \"position\": \"Defender\"\n",
        "      },\n",
        "      {\n",
        "        \"name\": \"Joshua RISDON\",\n",
        "        \"captain\": False,\n",
        "        \"shirt_number\": 19,\n",
        "        \"position\": \"Defender\"\n",
        "      },\n",
        "      {\n",
        "        \"name\": \"Trent SAINSBURY\",\n",
        "        \"captain\": False,\n",
        "        \"shirt_number\": 20,\n",
        "        \"position\": \"Defender\"\n",
        "      },\n",
        "      {\n",
        "        \"name\": \"Tom ROGIC\",\n",
        "        \"captain\": False,\n",
        "        \"shirt_number\": 23,\n",
        "        \"position\": \"Midfield\"\n",
        "      }\n",
        "    ]\n",
        "  }\n",
        "]"
      ]
    },
    {
      "cell_type": "code",
      "source": [
        "for team in soccer_match:\n",
        "    for player in team[\"players\"]:\n",
        "        if player[\"captain\"]:  # Check if the player is a captain\n",
        "            print(f\"The captain of {team['country']} is {player['name']}.\")\n",
        "midfielders = []\n",
        "\n",
        "for team in soccer_match:\n",
        "    for player in team[\"players\"]:\n",
        "        if player[\"position\"] == \"Midfield\":  # Check if the player is a midfielder\n",
        "            midfielders.append({\"name\": player[\"name\"], \"team\": team[\"country\"]})\n",
        "\n",
        "print(midfielders)\n",
        "max_fouls = 0\n",
        "team_with_max_fouls = \"\"\n",
        "\n",
        "for team in soccer_match:\n",
        "    if team[\"fouls_committed\"] > max_fouls:\n",
        "        max_fouls = team[\"fouls_committed\"]\n",
        "        team_with_max_fouls = team[\"country\"]\n",
        "\n",
        "print(f\"{team_with_max_fouls} committed the most fouls with {max_fouls} fouls.\")\n",
        "team_colors = {}\n",
        "\n",
        "for team in soccer_match:\n",
        "    team_colors[team[\"country\"]] = team[\"colors\"]\n",
        "\n",
        "print(team_colors)\n",
        "players_above_10 = []\n",
        "\n",
        "for team in soccer_match:\n",
        "    for player in team[\"players\"]:\n",
        "        if player[\"shirt_number\"] > 10:\n",
        "            players_above_10.append({\"name\": player[\"name\"], \"shirt_number\": player[\"shirt_number\"], \"team\": team[\"country\"]})\n",
        "\n",
        "print(players_above_10)\n"
      ],
      "metadata": {
        "id": "ejtx_8qprwak",
        "outputId": "aaf8263a-082b-44f1-dd55-4505781f76c0",
        "colab": {
          "base_uri": "https://localhost:8080/"
        }
      },
      "execution_count": 2,
      "outputs": [
        {
          "output_type": "stream",
          "name": "stdout",
          "text": [
            "The captain of France is Hugo LLORIS.\n",
            "The captain of Australia is Mile JEDINAK.\n",
            "[{'name': 'Paul POGBA', 'team': 'France'}, {'name': 'Corentin TOLISSO', 'team': 'France'}, {'name': 'Ngolo KANTE', 'team': 'France'}, {'name': 'Aaron MOOY', 'team': 'Australia'}, {'name': 'Mile JEDINAK', 'team': 'Australia'}, {'name': 'Tom ROGIC', 'team': 'Australia'}]\n",
            "Australia committed the most fouls with 19 fouls.\n",
            "{'France': ['blue', 'white', 'red'], 'Australia': ['green', 'gold']}\n",
            "[{'name': 'Ousmane DEMBELE', 'shirt_number': 11, 'team': 'France'}, {'name': 'Corentin TOLISSO', 'shirt_number': 12, 'team': 'France'}, {'name': 'Ngolo KANTE', 'shirt_number': 13, 'team': 'France'}, {'name': 'Lucas HERNANDEZ', 'shirt_number': 21, 'team': 'France'}, {'name': 'Andrew NABBOUT', 'shirt_number': 11, 'team': 'Australia'}, {'name': 'Aaron MOOY', 'shirt_number': 13, 'team': 'Australia'}, {'name': 'Mile JEDINAK', 'shirt_number': 15, 'team': 'Australia'}, {'name': 'Aziz BEHICH', 'shirt_number': 16, 'team': 'Australia'}, {'name': 'Joshua RISDON', 'shirt_number': 19, 'team': 'Australia'}, {'name': 'Trent SAINSBURY', 'shirt_number': 20, 'team': 'Australia'}, {'name': 'Tom ROGIC', 'shirt_number': 23, 'team': 'Australia'}]\n"
          ]
        }
      ]
    },
    {
      "cell_type": "markdown",
      "metadata": {
        "id": "lTdJMbKfYNCt"
      },
      "source": [
        "Let's take a look at some properties of this nested data structure:"
      ]
    },
    {
      "cell_type": "code",
      "execution_count": null,
      "metadata": {
        "id": "q0HQUkGCYNCt"
      },
      "outputs": [],
      "source": [
        "# Run this cell without changes\n",
        "\n",
        "print(\"Information about soccer_match\")\n",
        "print(\"Type:\", type(soccer_match))\n",
        "print(\"Length:\", len(soccer_match))\n",
        "print()\n",
        "\n",
        "print(\"Information about soccer_match[0]:\")\n",
        "print(\"Type:\", type(soccer_match[0]))\n",
        "print(\"Length:\", len(soccer_match[0]))\n",
        "print(\"Keys:\", soccer_match[0].keys())\n",
        "print(\"Values:\", soccer_match[1].values())"
      ]
    },
    {
      "cell_type": "markdown",
      "metadata": {
        "id": "ZUBHyk7qYNCt"
      },
      "source": [
        "Before looking at the answer below, try to identify: **what does `soccer_match` represent overall, and what does each record within `soccer_match` represent?**\n",
        "\n",
        ".\n",
        "\n",
        ".\n",
        "\n",
        ".\n",
        "\n",
        "*`soccer_match` represents a soccer match (game) containing a home team and an away team. Each record within `soccer_match` represents a team that participated in the match, and their associated stats.*"
      ]
    },
    {
      "cell_type": "markdown",
      "metadata": {
        "id": "Iob6rEhsYNCu"
      },
      "source": [
        "## Countries: A List of Strings\n",
        "\n",
        "In the cell below, iterate over the `soccer_match` list to create a new list with the name of the country for each team."
      ]
    },
    {
      "cell_type": "code",
      "execution_count": 3,
      "metadata": {
        "id": "FIx_wxCYYNCu",
        "outputId": "42d3de8c-570d-4def-9336-96780454b923",
        "colab": {
          "base_uri": "https://localhost:8080/"
        }
      },
      "outputs": [
        {
          "output_type": "stream",
          "name": "stdout",
          "text": [
            "['France', 'Australia']\n"
          ]
        },
        {
          "output_type": "execute_result",
          "data": {
            "text/plain": [
              "[]"
            ]
          },
          "metadata": {},
          "execution_count": 3
        }
      ],
      "source": [
        "countries = []\n",
        "\n",
        "# Your code here\n",
        "# Initialize an empty list to store country names\n",
        "team_countries = []\n",
        "\n",
        "# Iterate over each match entry in the soccer_match list\n",
        "for team in soccer_match:\n",
        "    # Append the country name to the list\n",
        "    team_countries.append(team[\"country\"])\n",
        "\n",
        "# Print the final list of country names\n",
        "print(team_countries)\n",
        "\n",
        "\n",
        "countries # ['France', 'Australia']"
      ]
    },
    {
      "cell_type": "markdown",
      "metadata": {
        "id": "Jqhht7wPYNCu"
      },
      "source": [
        "## Colors: Another List of Strings!\n",
        "\n",
        "In the cell below, iterate over the `soccer_match` list to create a new list with the colors for each team.\n",
        "\n",
        "This should be only one list containing strings for each of the country's colors, not a list of lists."
      ]
    },
    {
      "cell_type": "code",
      "execution_count": 4,
      "metadata": {
        "id": "FCuqNaIwYNCu",
        "outputId": "b5e0dca0-794d-49a8-d4bc-233db068ff85",
        "colab": {
          "base_uri": "https://localhost:8080/"
        }
      },
      "outputs": [
        {
          "output_type": "stream",
          "name": "stdout",
          "text": [
            "['blue', 'white', 'red', 'green', 'gold']\n"
          ]
        },
        {
          "output_type": "execute_result",
          "data": {
            "text/plain": [
              "[]"
            ]
          },
          "metadata": {},
          "execution_count": 4
        }
      ],
      "source": [
        "colors=[]\n",
        "# Initialize an empty list to store all colors\n",
        "team_colors = []\n",
        "\n",
        "# Iterate over each team in the soccer_match list\n",
        "for team in soccer_match:\n",
        "    # Extend the list with the team's colors\n",
        "    team_colors.extend(team[\"colors\"])\n",
        "\n",
        "# Print the final list of colors\n",
        "print(team_colors)\n",
        "\n",
        "\n",
        "colors # ['blue', 'white', 'red', 'green', 'gold']"
      ]
    },
    {
      "cell_type": "markdown",
      "metadata": {
        "id": "sPMerklLYNCu"
      },
      "source": [
        "## Players: A List of Dictionaries\n",
        "\n",
        "This time, iterate over the `soccer_match` list to create a new list with the players from each team. `players` should be a single list containing the dictionaries for each of the country's players."
      ]
    },
    {
      "cell_type": "code",
      "execution_count": 5,
      "metadata": {
        "id": "_xh2W0E3YNCu",
        "outputId": "78642cf7-d645-4f56-f035-5d7a684c0c89",
        "colab": {
          "base_uri": "https://localhost:8080/"
        }
      },
      "outputs": [
        {
          "output_type": "stream",
          "name": "stdout",
          "text": [
            "[{'name': 'Hugo LLORIS', 'captain': True, 'shirt_number': 1, 'position': 'Goalie'}, {'name': 'Benjamin PAVARD', 'captain': False, 'shirt_number': 2, 'position': 'Defender'}, {'name': 'Raphael VARANE', 'captain': False, 'shirt_number': 4, 'position': 'Defender'}, {'name': 'Samuel UMTITI', 'captain': False, 'shirt_number': 5, 'position': 'Defender'}, {'name': 'Paul POGBA', 'captain': False, 'shirt_number': 6, 'position': 'Midfield'}, {'name': 'Antoine GRIEZMANN', 'captain': False, 'shirt_number': 7, 'position': 'Forward'}, {'name': 'Kylian MBAPPE', 'captain': False, 'shirt_number': 10, 'position': 'Forward'}, {'name': 'Ousmane DEMBELE', 'captain': False, 'shirt_number': 11, 'position': 'Forward'}, {'name': 'Corentin TOLISSO', 'captain': False, 'shirt_number': 12, 'position': 'Midfield'}, {'name': 'Ngolo KANTE', 'captain': False, 'shirt_number': 13, 'position': 'Midfield'}, {'name': 'Lucas HERNANDEZ', 'captain': False, 'shirt_number': 21, 'position': 'Defender'}, {'name': 'Mathew RYAN', 'captain': False, 'shirt_number': 1, 'position': 'Goalie'}, {'name': 'Mark MILLIGAN', 'captain': False, 'shirt_number': 5, 'position': 'Defender'}, {'name': 'Mathew LECKIE', 'captain': False, 'shirt_number': 7, 'position': 'Forward'}, {'name': 'Robbie KRUSE', 'captain': False, 'shirt_number': 10, 'position': 'Forward'}, {'name': 'Andrew NABBOUT', 'captain': False, 'shirt_number': 11, 'position': 'Forward'}, {'name': 'Aaron MOOY', 'captain': False, 'shirt_number': 13, 'position': 'Midfield'}, {'name': 'Mile JEDINAK', 'captain': True, 'shirt_number': 15, 'position': 'Midfield'}, {'name': 'Aziz BEHICH', 'captain': False, 'shirt_number': 16, 'position': 'Defender'}, {'name': 'Joshua RISDON', 'captain': False, 'shirt_number': 19, 'position': 'Defender'}, {'name': 'Trent SAINSBURY', 'captain': False, 'shirt_number': 20, 'position': 'Defender'}, {'name': 'Tom ROGIC', 'captain': False, 'shirt_number': 23, 'position': 'Midfield'}]\n",
            "[{'name': 'Hugo LLORIS', 'captain': True, 'shirt_number': 1, 'position': 'Goalie'}, {'name': 'Benjamin PAVARD', 'captain': False, 'shirt_number': 2, 'position': 'Defender'}, {'name': 'Raphael VARANE', 'captain': False, 'shirt_number': 4, 'position': 'Defender'}, {'name': 'Samuel UMTITI', 'captain': False, 'shirt_number': 5, 'position': 'Defender'}, {'name': 'Paul POGBA', 'captain': False, 'shirt_number': 6, 'position': 'Midfield'}, {'name': 'Antoine GRIEZMANN', 'captain': False, 'shirt_number': 7, 'position': 'Forward'}, {'name': 'Kylian MBAPPE', 'captain': False, 'shirt_number': 10, 'position': 'Forward'}, {'name': 'Ousmane DEMBELE', 'captain': False, 'shirt_number': 11, 'position': 'Forward'}, {'name': 'Corentin TOLISSO', 'captain': False, 'shirt_number': 12, 'position': 'Midfield'}, {'name': 'Ngolo KANTE', 'captain': False, 'shirt_number': 13, 'position': 'Midfield'}, {'name': 'Lucas HERNANDEZ', 'captain': False, 'shirt_number': 21, 'position': 'Defender'}, {'name': 'Mathew RYAN', 'captain': False, 'shirt_number': 1, 'position': 'Goalie'}, {'name': 'Mark MILLIGAN', 'captain': False, 'shirt_number': 5, 'position': 'Defender'}, {'name': 'Mathew LECKIE', 'captain': False, 'shirt_number': 7, 'position': 'Forward'}, {'name': 'Robbie KRUSE', 'captain': False, 'shirt_number': 10, 'position': 'Forward'}, {'name': 'Andrew NABBOUT', 'captain': False, 'shirt_number': 11, 'position': 'Forward'}, {'name': 'Aaron MOOY', 'captain': False, 'shirt_number': 13, 'position': 'Midfield'}, {'name': 'Mile JEDINAK', 'captain': True, 'shirt_number': 15, 'position': 'Midfield'}, {'name': 'Aziz BEHICH', 'captain': False, 'shirt_number': 16, 'position': 'Defender'}, {'name': 'Joshua RISDON', 'captain': False, 'shirt_number': 19, 'position': 'Defender'}, {'name': 'Trent SAINSBURY', 'captain': False, 'shirt_number': 20, 'position': 'Defender'}, {'name': 'Tom ROGIC', 'captain': False, 'shirt_number': 23, 'position': 'Midfield'}]\n"
          ]
        }
      ],
      "source": [
        "\n",
        "# Your code here\n",
        "# Initialize an empty list to store all players\n",
        "players = []\n",
        "\n",
        "# Iterate over each team in the soccer_match list\n",
        "for team in soccer_match:\n",
        "    # Extend the list with the team's players\n",
        "    players.extend(team[\"players\"])\n",
        "\n",
        "# Print the final list of players\n",
        "print(players)\n",
        "\n",
        "\n",
        "print(players) # [{'name': 'Hugo LLORIS', 'captain': True, 'shirt_number': 1, 'position': 'Goalie'}, {'name': 'Benjamin PAVARD',...}, ...]"
      ]
    },
    {
      "cell_type": "markdown",
      "metadata": {
        "id": "hkcdLDKsYNCu"
      },
      "source": [
        "## Captains: Another List of Dictionaries!\n",
        "\n",
        "Iterate over the `soccer_match` list to create a new list with the captains from each team.\n",
        "\n",
        "This should be a single list containing the dictionaries for each of the countries' captains."
      ]
    },
    {
      "cell_type": "code",
      "execution_count": 6,
      "metadata": {
        "id": "MV5Ey33nYNCu",
        "outputId": "c2e7e4ff-bbcb-4c9c-d8be-549bae71e8ba",
        "colab": {
          "base_uri": "https://localhost:8080/"
        }
      },
      "outputs": [
        {
          "output_type": "stream",
          "name": "stdout",
          "text": [
            "[{'name': 'Hugo LLORIS', 'captain': True, 'shirt_number': 1, 'position': 'Goalie'}, {'name': 'Mile JEDINAK', 'captain': True, 'shirt_number': 15, 'position': 'Midfield'}]\n"
          ]
        },
        {
          "output_type": "execute_result",
          "data": {
            "text/plain": [
              "[{'name': 'Hugo LLORIS',\n",
              "  'captain': True,\n",
              "  'shirt_number': 1,\n",
              "  'position': 'Goalie'},\n",
              " {'name': 'Mile JEDINAK',\n",
              "  'captain': True,\n",
              "  'shirt_number': 15,\n",
              "  'position': 'Midfield'}]"
            ]
          },
          "metadata": {},
          "execution_count": 6
        }
      ],
      "source": [
        "\n",
        "# Your code here\n",
        "# Initialize an empty list to store captains\n",
        "captains = []\n",
        "\n",
        "# Iterate over each team in the soccer_match list\n",
        "for team in soccer_match:\n",
        "    # Iterate over players in each team\n",
        "    for player in team[\"players\"]:\n",
        "        # Check if the player is a captain\n",
        "        if player[\"captain\"]:\n",
        "            captains.append(player)\n",
        "\n",
        "# Print the final list of captains\n",
        "print(captains)\n",
        "\n",
        "\n",
        "captains # One captain per team:\n",
        "# [{'name': 'Hugo LLORIS',\n",
        "#   'captain': True,\n",
        "#   'shirt_number': 1,\n",
        "#   'position': 'Goalie'},\n",
        "#  {'name': 'Mile JEDINAK',\n",
        "#   'captain': True,\n",
        "#   'shirt_number': 15,\n",
        "#   'position': 'Midfield'}]"
      ]
    },
    {
      "cell_type": "markdown",
      "metadata": {
        "id": "xwfZVMCqYNCv"
      },
      "source": [
        "## Home Team Players: A Third List of Dictionaries\n",
        "\n",
        "Iterate over the `soccer_match` list to create a new list with the players from ONLY the home team.\n",
        "\n",
        "Do not \"hard-code\" which team this is; use the `'home_team'` key."
      ]
    },
    {
      "cell_type": "code",
      "execution_count": 7,
      "metadata": {
        "id": "vApzGKsJYNCv",
        "outputId": "8151f02b-ce36-47b9-d6cd-6f556cc4a7e5",
        "colab": {
          "base_uri": "https://localhost:8080/"
        }
      },
      "outputs": [
        {
          "output_type": "stream",
          "name": "stdout",
          "text": [
            "[{'name': 'Hugo LLORIS', 'captain': True, 'shirt_number': 1, 'position': 'Goalie'}, {'name': 'Benjamin PAVARD', 'captain': False, 'shirt_number': 2, 'position': 'Defender'}, {'name': 'Raphael VARANE', 'captain': False, 'shirt_number': 4, 'position': 'Defender'}, {'name': 'Samuel UMTITI', 'captain': False, 'shirt_number': 5, 'position': 'Defender'}, {'name': 'Paul POGBA', 'captain': False, 'shirt_number': 6, 'position': 'Midfield'}, {'name': 'Antoine GRIEZMANN', 'captain': False, 'shirt_number': 7, 'position': 'Forward'}, {'name': 'Kylian MBAPPE', 'captain': False, 'shirt_number': 10, 'position': 'Forward'}, {'name': 'Ousmane DEMBELE', 'captain': False, 'shirt_number': 11, 'position': 'Forward'}, {'name': 'Corentin TOLISSO', 'captain': False, 'shirt_number': 12, 'position': 'Midfield'}, {'name': 'Ngolo KANTE', 'captain': False, 'shirt_number': 13, 'position': 'Midfield'}, {'name': 'Lucas HERNANDEZ', 'captain': False, 'shirt_number': 21, 'position': 'Defender'}]\n"
          ]
        }
      ],
      "source": [
        "home_team_players = []\n",
        "\n",
        "# Your code here\n",
        "\n",
        "home_team_players\n",
        "# Initialize an empty list to store players from the home team\n",
        "\n",
        "# Iterate over each team in the soccer_match list\n",
        "for team in soccer_match:\n",
        "    # Check if the team is the home team\n",
        "    if team[\"home_team\"]:\n",
        "        # Add all players from the home team to the list\n",
        "        home_team_players.extend(team[\"players\"])\n",
        "\n",
        "# Print the final list of home team players\n",
        "print(home_team_players)\n",
        "\n",
        "\n",
        "# [{'name': 'Hugo LLORIS',\n",
        "#   'captain': True,\n",
        "#   'shirt_number': 1,\n",
        "#   'position': 'Goalie'},\n",
        "#  ...\n",
        "#  {'name': 'Lucas HERNANDEZ',\n",
        "#   'captain': False,\n",
        "#   'shirt_number': 21,\n",
        "#   'position': 'Defender'}]"
      ]
    },
    {
      "cell_type": "markdown",
      "metadata": {
        "id": "qXaGCBVjYNCv"
      },
      "source": [
        "## Away Team Forwards: Yup, a List of Dictionaries\n",
        "\n",
        "Iterate over the `soccer_match` list to create a new list with the information for each of the away team players whose `position` is `\"Forward\"`."
      ]
    },
    {
      "cell_type": "code",
      "execution_count": 8,
      "metadata": {
        "id": "v0FWs_QdYNCv",
        "outputId": "18266415-c9d4-49e9-d9ff-0a3ac0a85d5f",
        "colab": {
          "base_uri": "https://localhost:8080/"
        }
      },
      "outputs": [
        {
          "output_type": "stream",
          "name": "stdout",
          "text": [
            "[{'name': 'Mathew LECKIE', 'captain': False, 'shirt_number': 7, 'position': 'Forward'}, {'name': 'Robbie KRUSE', 'captain': False, 'shirt_number': 10, 'position': 'Forward'}, {'name': 'Andrew NABBOUT', 'captain': False, 'shirt_number': 11, 'position': 'Forward'}]\n"
          ]
        },
        {
          "output_type": "execute_result",
          "data": {
            "text/plain": [
              "[{'name': 'Mathew LECKIE',\n",
              "  'captain': False,\n",
              "  'shirt_number': 7,\n",
              "  'position': 'Forward'},\n",
              " {'name': 'Robbie KRUSE',\n",
              "  'captain': False,\n",
              "  'shirt_number': 10,\n",
              "  'position': 'Forward'},\n",
              " {'name': 'Andrew NABBOUT',\n",
              "  'captain': False,\n",
              "  'shirt_number': 11,\n",
              "  'position': 'Forward'}]"
            ]
          },
          "metadata": {},
          "execution_count": 8
        }
      ],
      "source": [
        "\n",
        "# Initialize an empty list to store away team forwards\n",
        "away_team_forwards = []\n",
        "\n",
        "# Iterate over each team in the soccer_match list\n",
        "for team in soccer_match:\n",
        "    # Check if the team is the away team\n",
        "    if team[\"away_team\"]:\n",
        "        # Iterate over the players in the away team\n",
        "        for player in team[\"players\"]:\n",
        "            # Check if the player's position is \"Forward\"\n",
        "            if player[\"position\"] == \"Forward\":\n",
        "                # Add the player to the list\n",
        "                away_team_forwards.append(player)\n",
        "\n",
        "# Print the final list of away team forwards\n",
        "print(away_team_forwards)\n",
        "\n",
        "away_team_forwards\n",
        "# [{'name': 'Mathew LECKIE',\n",
        "#   'captain': False,\n",
        "#   'shirt_number': 7,\n",
        "#   'position': 'Forward'},\n",
        "#  {'name': 'Robbie KRUSE',\n",
        "#   'captain': False,\n",
        "#   'shirt_number': 10,\n",
        "#   'position': 'Forward'},\n",
        "#  {'name': 'Andrew NABBOUT',\n",
        "#   'captain': False,\n",
        "#   'shirt_number': 11,\n",
        "#   'position': 'Forward'}]"
      ]
    },
    {
      "cell_type": "markdown",
      "metadata": {
        "id": "vdTnuuLiYNCv"
      },
      "source": [
        "## Player with the Highest Number\n",
        "\n",
        "Iterate over the `soccer_match` list and find the player with the highest `shirt_number`.  \n",
        "Store this player's information in the `player_with_highest_num` variable."
      ]
    },
    {
      "cell_type": "code",
      "execution_count": 9,
      "metadata": {
        "id": "b3Qh6HEEYNCv",
        "outputId": "f3f62b92-3daf-43cc-f154-a65df234616a",
        "colab": {
          "base_uri": "https://localhost:8080/"
        }
      },
      "outputs": [
        {
          "output_type": "stream",
          "name": "stdout",
          "text": [
            "{'name': 'Tom ROGIC', 'captain': False, 'shirt_number': 23, 'position': 'Midfield'}\n"
          ]
        },
        {
          "output_type": "execute_result",
          "data": {
            "text/plain": [
              "{'name': 'Tom ROGIC',\n",
              " 'captain': False,\n",
              " 'shirt_number': 23,\n",
              " 'position': 'Midfield'}"
            ]
          },
          "metadata": {},
          "execution_count": 9
        }
      ],
      "source": [
        "\n",
        "# Initialize a variable to store the player with the highest shirt number\n",
        "player_with_highest_num = None\n",
        "max_shirt_number = 0  # Start with the lowest possible value\n",
        "\n",
        "# Iterate over each team in the soccer_match list\n",
        "for team in soccer_match:\n",
        "    # Iterate over the players in the team\n",
        "    for player in team[\"players\"]:\n",
        "        # Check if the current player's shirt number is higher than the max found so far\n",
        "        if player[\"shirt_number\"] > max_shirt_number:\n",
        "            max_shirt_number = player[\"shirt_number\"]\n",
        "            player_with_highest_num = player  # Store the player's information\n",
        "\n",
        "# Print the player with the highest shirt number\n",
        "print(player_with_highest_num)\n",
        "\n",
        "\n",
        "player_with_highest_num\n",
        "# {'name': 'Tom ROGIC',\n",
        "#  'captain': False,\n",
        "#  'shirt_number': 23,\n",
        "#  'position': 'Midfield'}"
      ]
    },
    {
      "cell_type": "markdown",
      "metadata": {
        "id": "QTYVwS5tYNCv"
      },
      "source": [
        "## Player Names: A Cleaned List\n",
        "\n",
        "Notice that the players oddly have their last names in all caps. Create a list of all the names of the players in this match. Be sure to make sure their first and last names are properly capitalized (first letter upper case, proceeding letters lower case), as opposed to how they are currently formatted."
      ]
    },
    {
      "cell_type": "code",
      "execution_count": 10,
      "metadata": {
        "id": "BPfCuWAPYNCv",
        "outputId": "f1571ab4-9543-4ba3-fd16-0ae31998ee28",
        "colab": {
          "base_uri": "https://localhost:8080/"
        }
      },
      "outputs": [
        {
          "output_type": "stream",
          "name": "stdout",
          "text": [
            "['Hugo Lloris', 'Benjamin Pavard', 'Raphael Varane', 'Samuel Umtiti', 'Paul Pogba', 'Antoine Griezmann', 'Kylian Mbappe', 'Ousmane Dembele', 'Corentin Tolisso', 'Ngolo Kante', 'Lucas Hernandez', 'Mathew Ryan', 'Mark Milligan', 'Mathew Leckie', 'Robbie Kruse', 'Andrew Nabbout', 'Aaron Mooy', 'Mile Jedinak', 'Aziz Behich', 'Joshua Risdon', 'Trent Sainsbury', 'Tom Rogic']\n",
            "['Hugo Lloris', 'Benjamin Pavard', 'Raphael Varane', 'Samuel Umtiti', 'Paul Pogba', 'Antoine Griezmann', 'Kylian Mbappe', 'Ousmane Dembele', 'Corentin Tolisso', 'Ngolo Kante', 'Lucas Hernandez', 'Mathew Ryan', 'Mark Milligan', 'Mathew Leckie', 'Robbie Kruse', 'Andrew Nabbout', 'Aaron Mooy', 'Mile Jedinak', 'Aziz Behich', 'Joshua Risdon', 'Trent Sainsbury', 'Tom Rogic', 'Hugo Lloris', 'Benjamin Pavard', 'Raphael Varane', 'Samuel Umtiti', 'Paul Pogba', 'Antoine Griezmann', 'Kylian Mbappe', 'Ousmane Dembele', 'Corentin Tolisso', 'Ngolo Kante', 'Lucas Hernandez', 'Mathew Ryan', 'Mark Milligan', 'Mathew Leckie', 'Robbie Kruse', 'Andrew Nabbout', 'Aaron Mooy', 'Mile Jedinak', 'Aziz Behich', 'Joshua Risdon', 'Trent Sainsbury', 'Tom Rogic']\n"
          ]
        },
        {
          "output_type": "execute_result",
          "data": {
            "text/plain": [
              "[]"
            ]
          },
          "metadata": {},
          "execution_count": 10
        }
      ],
      "source": [
        "player_names = []\n",
        "\n",
        "# Initialize an empty list to store properly formatted player names\n",
        "# Initialize an empty list to store properly formatted player names\n",
        "formatted_player_names = []\n",
        "\n",
        "# Iterate over each team in the soccer_match list\n",
        "for team in soccer_match:\n",
        "    # Iterate over the players in the team\n",
        "    for player in team[\"players\"]:\n",
        "        # Convert the player's name to title case\n",
        "        formatted_name = player[\"name\"].title()\n",
        "        # Add the formatted name to the list\n",
        "        formatted_player_names.append(formatted_name)\n",
        "\n",
        "# Print the final list of properly capitalized player names\n",
        "print(formatted_player_names)\n",
        "\n",
        "# Iterate over each team in the soccer_match list\n",
        "for team in soccer_match:\n",
        "    # Iterate over the players in the team\n",
        "    for player in team[\"players\"]:\n",
        "        # Convert the player's name to title case\n",
        "        formatted_name = player[\"name\"].title()\n",
        "        # Add the formatted name to the list\n",
        "        formatted_player_names.append(formatted_name)\n",
        "\n",
        "# Print the final list of properly capitalized player names\n",
        "print(formatted_player_names)\n",
        "\n",
        "\n",
        "player_names\n",
        "# ['Hugo Lloris',\n",
        "#  'Benjamin Pavard',\n",
        "#  'Raphael Varane',\n",
        "#  'Samuel Umtiti',\n",
        "#  'Paul Pogba',\n",
        "#  'Antoine Griezmann',\n",
        "#  'Kylian Mbappe',\n",
        "#  'Ousmane Dembele',\n",
        "#  'Corentin Tolisso',\n",
        "#  'Ngolo Kante',\n",
        "#  'Lucas Hernandez',\n",
        "#  'Mathew Ryan',\n",
        "#  'Mark Milligan',\n",
        "#  'Mathew Leckie',\n",
        "#  'Robbie Kruse',\n",
        "#  'Andrew Nabbout',\n",
        "#  'Aaron Mooy',\n",
        "#  'Mile Jedinak',\n",
        "#  'Aziz Behich',\n",
        "#  'Joshua Risdon',\n",
        "#  'Trent Sainsbury',\n",
        "#  'Tom Rogic']"
      ]
    },
    {
      "cell_type": "markdown",
      "metadata": {
        "id": "H8U8DJOGYNCv"
      },
      "source": [
        "## Summary"
      ]
    },
    {
      "cell_type": "markdown",
      "metadata": {
        "id": "q7myZfbLYNCv"
      },
      "source": [
        "In this lab, you practiced using nested loops to iterate through a nested data structure using data from a soccer match. Nested data structures can be quite complicated and it can become difficult to access more nested data. With nested loops, you are able to dynamically access this nested data and work with it as you would with a flatter data structure. It is important to think about the structure of the data before and while you're working so you know exactly what data you are working with at each level."
      ]
    }
  ],
  "metadata": {
    "kernelspec": {
      "display_name": "Python (learn-env)",
      "language": "python",
      "name": "learn-env"
    },
    "language_info": {
      "codemirror_mode": {
        "name": "ipython",
        "version": 3
      },
      "file_extension": ".py",
      "mimetype": "text/x-python",
      "name": "python",
      "nbconvert_exporter": "python",
      "pygments_lexer": "ipython3",
      "version": "3.8.5"
    },
    "toc": {
      "base_numbering": 1,
      "nav_menu": {},
      "number_sections": true,
      "sideBar": true,
      "skip_h1_title": false,
      "title_cell": "Table of Contents",
      "title_sidebar": "Contents",
      "toc_cell": false,
      "toc_position": {},
      "toc_section_display": true,
      "toc_window_display": false
    },
    "colab": {
      "provenance": [],
      "name": "nestedloops.ipynb",
      "include_colab_link": true
    }
  },
  "nbformat": 4,
  "nbformat_minor": 0
}