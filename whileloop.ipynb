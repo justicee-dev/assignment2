{
  "cells": [
    {
      "cell_type": "markdown",
      "metadata": {
        "id": "view-in-github",
        "colab_type": "text"
      },
      "source": [
        "<a href=\"https://colab.research.google.com/github/justicee-dev/assignment2/blob/main/whileloop.ipynb\" target=\"_parent\"><img src=\"https://colab.research.google.com/assets/colab-badge.svg\" alt=\"Open In Colab\"/></a>"
      ]
    },
    {
      "cell_type": "markdown",
      "metadata": {
        "id": "U_oFI0UmXQkz"
      },
      "source": [
        "# While Loops, Break and Continue - Lab"
      ]
    },
    {
      "cell_type": "markdown",
      "metadata": {
        "id": "WeIR9xt2XQk0"
      },
      "source": [
        "## Introduction\n",
        "In this lab, we will practice using `while` loops, and `break` and `continue` statements in our code. We will use our control flow statements to iterate through collections and filter out or selectively operate on each element. We'll use `while` loops to perform operations until a given condition is no longer true."
      ]
    },
    {
      "cell_type": "markdown",
      "metadata": {
        "id": "xfoc76eQXQk1"
      },
      "source": [
        "## Objectives\n",
        "You will be able to:\n",
        "\n",
        "* Use a `while` loop\n",
        "* Use `break` and `continue` to add control flow to a `while` loop"
      ]
    },
    {
      "cell_type": "markdown",
      "metadata": {
        "id": "aaeN4_GHXQk1"
      },
      "source": [
        "## Instructions\n",
        "\n",
        "### While Loops\n",
        "\n",
        "Imagine a person named Agnes is finally ready to achieve her dream of becoming a competitive eater! Because the competition is so fierce, she knows she'll need to do lots of training to become number one.\n",
        "\n",
        "Her first regiment of training consists of eating pizza. Below is a `for` loop version of her training process. Using your knowledge of `while` loops, translate the pizza eating code below from a `for` loop to a `while` loop."
      ]
    },
    {
      "cell_type": "code",
      "execution_count": 5,
      "metadata": {
        "id": "EOboJ-07XQk1",
        "outputId": "bf0dda0f-82af-4db9-c8fb-e3a5c7cabeda",
        "colab": {
          "base_uri": "https://localhost:8080/"
        }
      },
      "outputs": [
        {
          "output_type": "stream",
          "name": "stdout",
          "text": [
            "Another slice eaten!\n",
            "Now eaten 1 slices!\n",
            "Another slice eaten!\n",
            "Now eaten 2 slices!\n",
            "Another slice eaten!\n",
            "Now eaten 3 slices!\n",
            "Another slice eaten!\n",
            "Now eaten 4 slices!\n",
            "Another slice eaten!\n",
            "Now eaten 5 slices!\n",
            "Another slice eaten!\n",
            "Now eaten 6 slices!\n"
          ]
        }
      ],
      "source": [
        "slices_of_pie = 6\n",
        "slices_eaten = 0\n",
        "\n",
        "while slices_eaten in range(slices_of_pie):\n",
        "  if slices_eaten<slices_of_pie:\n",
        "    print('Another slice eaten!')\n",
        "    slices_eaten += 1\n",
        "    print('Now eaten {} slices!'.format(slices_eaten))"
      ]
    },
    {
      "cell_type": "code",
      "execution_count": 7,
      "metadata": {
        "id": "EJtFcin-XQk3",
        "outputId": "c313c637-13e3-40db-90ec-bd1b7f74cdd7",
        "colab": {
          "base_uri": "https://localhost:8080/"
        }
      },
      "outputs": [
        {
          "output_type": "stream",
          "name": "stdout",
          "text": [
            "Another slice eaten!\n",
            "Now eaten 1 slices!\n",
            "Another slice eaten!\n",
            "Now eaten 2 slices!\n",
            "Another slice eaten!\n",
            "Now eaten 3 slices!\n",
            "Another slice eaten!\n",
            "Now eaten 4 slices!\n",
            "Another slice eaten!\n",
            "Now eaten 5 slices!\n",
            "Another slice eaten!\n",
            "Now eaten 6 slices!\n"
          ]
        }
      ],
      "source": [
        "slices_of_pie = 6\n",
        "slices_eaten = 0\n",
        "while slices_eaten< slices_of_pie:\n",
        " if slices_eaten<slices_of_pie:\n",
        "    print('Another slice eaten!')\n",
        "    slices_eaten += 1\n",
        "    print('Now eaten {} slices!'.format(slices_eaten))\n",
        "# add your while loop here that achieves the same results as the for loop above\n"
      ]
    },
    {
      "cell_type": "markdown",
      "metadata": {
        "id": "KbEL3FirXQk3"
      },
      "source": [
        "After a long night of training with pizza, Agnes sleeps like a rock. When she wakes up in the morning, she realizes that her journey is not over. It has only just begun! In the next cell, continue her training; this time she'll be eating pancakes. None of the pancakes are prepared yet, and she wants to determine how much time she'll have left over after making all the pancakes. Here are the important details:\n",
        "\n",
        "* Agnes has 1468 seconds allotted for breakfast today\n",
        "* Agnes will be making herself 5 pancakes\n",
        "* Each pancake takes 27 seconds to cook on each side\n",
        "* It takes an average of 5 seconds to either flip a pancake, add it or remove it from the pan\n",
        "* There is only room for one pancake at a time on the frying pan\n",
        "* Remember there are two sides to every pancake!  \n",
        "\n",
        "After Agnes cooks the 5 pancakes, how much time will she have left over to eat them? Use a while loop to find out below."
      ]
    },
    {
      "cell_type": "code",
      "execution_count": 8,
      "metadata": {
        "id": "-wBr10KmXQk3",
        "outputId": "d0b0cf7e-8e33-481c-8d3a-7a5fb0a20617",
        "colab": {
          "base_uri": "https://localhost:8080/"
        }
      },
      "outputs": [
        {
          "output_type": "stream",
          "name": "stdout",
          "text": [
            "Pancake 1 cooked! Total time used: 69 seconds\n",
            "Pancake 2 cooked! Total time used: 138 seconds\n",
            "Pancake 3 cooked! Total time used: 207 seconds\n",
            "Pancake 4 cooked! Total time used: 276 seconds\n",
            "Pancake 5 cooked! Total time used: 345 seconds\n",
            "\n",
            "Total time needed: 345 seconds\n",
            "Agnes has enough time to cook and enjoy breakfast! \n"
          ]
        }
      ],
      "source": [
        "time_for_breakfast = 1468 # in seconds\n",
        "number_of_cooked_pancakes = 0\n",
        "pancake_time=27\n",
        "average_time=5\n",
        "no_of_pancakes=5\n",
        "# Given data\n",
        "total_seconds_available = 1468\n",
        "num_pancakes = 5\n",
        "cook_time_per_side = 27  # seconds\n",
        "flip_time = 5  # seconds\n",
        "remove_time = 5  # seconds\n",
        "add_time = 5  # seconds\n",
        "\n",
        "# Initialize counters\n",
        "pancakes_cooked = 0\n",
        "total_time_used = 0\n",
        "\n",
        "# While loop to simulate cooking each pancake\n",
        "while pancakes_cooked < num_pancakes:\n",
        "    # Add pancake to the pan\n",
        "    total_time_used += add_time\n",
        "\n",
        "    total_time_used += cook_time_per_side\n",
        "\n",
        "    total_time_used += flip_time\n",
        "\n",
        "    total_time_used += cook_time_per_side\n",
        "\n",
        "    # Remove pancake from the pan\n",
        "    total_time_used += remove_time\n",
        "\n",
        "    # Increment count of cooked pancakes\n",
        "    pancakes_cooked += 1\n",
        "\n",
        "    print(f\"Pancake {pancakes_cooked} cooked! Total time used: {total_time_used} seconds\")\n",
        "\n",
        "# Final check if Agnes has enough time\n",
        "print(f\"\\nTotal time needed: {total_time_used} seconds\")\n",
        "if total_time_used <= total_seconds_available:\n",
        "    print(\"Agnes has enough time to cook and enjoy breakfast! \")\n",
        "else:\n",
        "    print(\"Agnes might need to hurry up! \")\n"
      ]
    },
    {
      "cell_type": "markdown",
      "metadata": {
        "id": "4f2zlKChXQk3"
      },
      "source": [
        "## For Loops"
      ]
    },
    {
      "cell_type": "markdown",
      "metadata": {
        "id": "WdTOgoY_XQk3"
      },
      "source": [
        "Fast forward 5 years, and Agnes has become an international competitive eating superstar. Using her starpower, she decides to open up a restaurant chain. As part of a promotional deal, at a grand opening, she tells her fans that if they are part of the first 30 people to the restaurant, there is a 50% chance that they'll receive free food. Agnes executes this by giving each of the first 30 people a number ranging from 0-29. All people who have an even number will receive free food, and all those with odd numbers will sadly remain hungry :(. Use a loop to create two lists below of:\n",
        "\n",
        "* `hungry_patrons`\n",
        "* `fed_patrons`\n",
        "\n",
        "All people will start out in the list of `hungry_patrons`, and only the lucky ones will move to `fed_patrons`.\n",
        "\n",
        "> **Hint:** You may find the [remove method](https://www.programiz.com/python-programming/methods/list/remove) to be useful for the next problem"
      ]
    },
    {
      "cell_type": "code",
      "execution_count": 9,
      "metadata": {
        "id": "QRg1f-YwXQk3",
        "outputId": "b5818c1b-2be1-4a24-c3d8-aeecac65ca62",
        "colab": {
          "base_uri": "https://localhost:8080/"
        }
      },
      "outputs": [
        {
          "output_type": "stream",
          "name": "stdout",
          "text": [
            "Fed Patrons: [0, 2, 4, 6, 8, 10, 12, 14, 16, 18, 20, 22, 24, 26, 28]\n",
            "Hungry Patrons: [1, 3, 5, 7, 9, 11, 13, 15, 17, 19, 21, 23, 25, 27, 29]\n"
          ]
        }
      ],
      "source": [
        "line_of_hungry_patrons = list(range(0,30))\n",
        "fed_patrons = []\n",
        "\n",
        "all_patrons = list(range(30))\n",
        "\n",
        "fed_patrons = all_patrons.copy()\n",
        "\n",
        "for person in all_patrons:\n",
        "    if person % 2 != 0:  # Check if the number is odd\n",
        "        fed_patrons.remove(person)  # Remove odd numbers\n",
        "\n",
        "hungry_patrons = [person for person in all_patrons if person not in fed_patrons]\n",
        "\n",
        "print(\"Fed Patrons:\", fed_patrons)\n",
        "print(\"Hungry Patrons:\", hungry_patrons)\n",
        "\n"
      ]
    },
    {
      "cell_type": "markdown",
      "metadata": {
        "id": "lVboZTbNXQk4"
      },
      "source": [
        "### `break` And `continue` Statements"
      ]
    },
    {
      "cell_type": "markdown",
      "metadata": {
        "id": "rWHUIqrHXQk4"
      },
      "source": [
        "Agnes decides that she wants to start creating targeted advertisements for people. Here is a list of customer objects with information about their name, age, job, pet, and pet name. You'll use loops to find people that meet certain requirements for Agnes' targeted marketing. Write `for` loops with conditional statements in conjunction with `break` and `continue` to get the desired output."
      ]
    },
    {
      "cell_type": "code",
      "execution_count": 11,
      "metadata": {
        "id": "gdDreY7oXQk4"
      },
      "outputs": [],
      "source": [
        "people = [\n",
        "    {'name': \"Daniel\", 'age': 29, 'job': \"Engineer\", 'pet': \"Cat\", 'pet_name': \"Gato\"},\n",
        "    {'name': \"Katie\", 'age': 30, 'job': \"Teacher\", 'pet': \"Dog\", 'pet_name': \"Frank\"},\n",
        "    {'name': \"Owen\", 'age': 26, 'job': \"Sales person\", 'pet': \"Cat\", 'pet_name': \"Cosmo\"},\n",
        "    {'name': \"Josh\", 'age': 22, 'job': \"Student\", 'pet': \"Cat\", 'pet_name': \"Chat\"},\n",
        "    {'name': \"Estelle\", 'age': 35, 'job': \"French Diplomat\", 'pet': \"Dog\", 'pet_name': \"Gabby\"},\n",
        "    {'name': \"Gustav\", 'age': 24, 'job': \"Brewer\", 'pet': \"Dog\", 'pet_name': \"Helen\"}\n",
        "]"
      ]
    },
    {
      "cell_type": "markdown",
      "metadata": {
        "id": "oRybIcqNXQk4"
      },
      "source": [
        "Use a `for` loop to find the first person in the list of people that has a dog as their pet. The iteration count shouldn't exceed 2. In your loop add a print statement that says\n",
        "\n",
        "```python\n",
        " \"{person} has a dog! Had to check {number} of records to find a dog owner.\"\n",
        "\n",
        "```\n",
        "The code has been started for you below:"
      ]
    },
    {
      "cell_type": "code",
      "execution_count": 12,
      "metadata": {
        "id": "H7oWUMTMXQk4",
        "outputId": "1cde7103-3e09-49c3-82e1-be7ddf9143b8",
        "colab": {
          "base_uri": "https://localhost:8080/"
        }
      },
      "outputs": [
        {
          "output_type": "stream",
          "name": "stdout",
          "text": [
            "First dog owner found after 2 iterations:\n",
            "Katie owns a dog named Frank.\n"
          ]
        }
      ],
      "source": [
        "first_dog_person = None\n",
        "iteration_count = 0\n",
        "\n",
        "for person in people:\n",
        "    iteration_count += 1\n",
        "    if person[\"pet\"] == \"Dog\":\n",
        "        first_dog_person = person  # Store the first dog owner\n",
        "        break  # Stop after finding the first dog owner\n",
        "\n",
        "# Display the result\n",
        "if first_dog_person:\n",
        "    print(f\"First dog owner found after {iteration_count} iterations:\")\n",
        "    print(f\"{first_dog_person['name']} owns a dog named {first_dog_person['pet_name']}.\")\n",
        "else:\n",
        "    print(\"No dog owners found.\")\n"
      ]
    },
    {
      "cell_type": "markdown",
      "metadata": {
        "id": "Hi1hG3DUXQk4"
      },
      "source": [
        "Now, use a `for` loop to create a list of all the cat owners who are under the age of 28."
      ]
    },
    {
      "cell_type": "code",
      "execution_count": 13,
      "metadata": {
        "id": "Io3CzSTFXQk4",
        "outputId": "6f232ac9-39a6-41ab-b84a-317a789194cf",
        "colab": {
          "base_uri": "https://localhost:8080/"
        }
      },
      "outputs": [
        {
          "output_type": "stream",
          "name": "stdout",
          "text": [
            "Cat owners under the age of 28:\n",
            "Owen (26 years old) owns a cat named Cosmo.\n",
            "Josh (22 years old) owns a cat named Chat.\n"
          ]
        }
      ],
      "source": [
        "cat_owners = None\n",
        "# for loop goes here\n",
        "cat_owners = []  # Initialize an empty list\n",
        "\n",
        "for person in people:\n",
        "    if person[\"pet\"] == \"Cat\" and person[\"age\"] < 28:\n",
        "        cat_owners.append(person)  # Add qualifying cat owner to the list\n",
        "\n",
        "# Display the result\n",
        "if cat_owners:\n",
        "    print(\"Cat owners under the age of 28:\")\n",
        "    for owner in cat_owners:\n",
        "        print(f\"{owner['name']} ({owner['age']} years old) owns a cat named {owner['pet_name']}.\")\n",
        "else:\n",
        "    print(\"No cat owners under 28 found.\")\n"
      ]
    },
    {
      "cell_type": "markdown",
      "metadata": {
        "id": "whVvxZXCXQk4"
      },
      "source": [
        "Use a `for` loop to find the first person who is above 29 years old. Use a print statement to state their name and how old they are."
      ]
    },
    {
      "cell_type": "code",
      "execution_count": 14,
      "metadata": {
        "id": "2_WTxqHNXQk4",
        "outputId": "c8854583-935a-444b-8bf4-a0ca21075c5e",
        "colab": {
          "base_uri": "https://localhost:8080/"
        }
      },
      "outputs": [
        {
          "output_type": "stream",
          "name": "stdout",
          "text": [
            "Katie is 30 years old.\n"
          ]
        }
      ],
      "source": [
        "thirty_something_yr_old = None\n",
        "thirty_something_yr_old = None\n",
        "\n",
        "for person in people:\n",
        "    if person[\"age\"] > 29:\n",
        "        thirty_something_yr_old = person  # Store the first match\n",
        "        break\n",
        "\n",
        "\n",
        "if thirty_something_yr_old:\n",
        "    print(f\"{thirty_something_yr_old['name']} is {thirty_something_yr_old['age']} years old.\")\n",
        "else:\n",
        "    print(\"No one above 29 years old found.\")\n"
      ]
    },
    {
      "cell_type": "markdown",
      "metadata": {
        "id": "4kf8-LVbXQk4"
      },
      "source": [
        "Use a `for` loop to create a list of people's names and another list of pet names for all the **dog owners**."
      ]
    },
    {
      "cell_type": "code",
      "execution_count": 15,
      "metadata": {
        "id": "DMrH6zJqXQk4",
        "outputId": "b46965cc-eaaa-46e6-f024-ba9d67523f6b",
        "colab": {
          "base_uri": "https://localhost:8080/"
        }
      },
      "outputs": [
        {
          "output_type": "stream",
          "name": "stdout",
          "text": [
            "Dog Owners: ['Katie', 'Estelle', 'Gustav']\n",
            "Dog Names: ['Frank', 'Gabby', 'Helen']\n"
          ]
        }
      ],
      "source": [
        "dog_owner_names = None\n",
        "dog_names = None\n",
        "dog_owner_names = []  # List to store dog owners' names\n",
        "dog_names = []  # List to store dog names\n",
        "\n",
        "for person in people:\n",
        "    if person[\"pet\"] == \"Dog\":  # Check if the person owns a dog\n",
        "        dog_owner_names.append(person[\"name\"])  # Add owner's name\n",
        "        dog_names.append(person[\"pet_name\"])  # Add dog's name\n",
        "\n",
        "# Display the results\n",
        "print(\"Dog Owners:\", dog_owner_names)\n",
        "print(\"Dog Names:\", dog_names)\n",
        "\n",
        "# for loop goes here"
      ]
    },
    {
      "cell_type": "markdown",
      "metadata": {
        "id": "_wxPydMIXQk5"
      },
      "source": [
        "## Level Up\n",
        "Use a `for` loop to create a list of odd numbers from the list of numbers from 0 to 100. Each time there is an odd number, add 10 to it and append it to `list_of_odd_numbers_plus_ten`. Stop adding numbers to the list when there are 35 numbers in it. Once you have reached 35 numbers, return the sum of the new list of numbers."
      ]
    },
    {
      "cell_type": "code",
      "execution_count": 16,
      "metadata": {
        "id": "rYEn24KjXQk5",
        "outputId": "e0318161-c9e4-4044-81ef-d2e78e0962c3",
        "colab": {
          "base_uri": "https://localhost:8080/"
        }
      },
      "outputs": [
        {
          "output_type": "stream",
          "name": "stdout",
          "text": [
            "List of modified odd numbers: [11, 13, 15, 17, 19, 21, 23, 25, 27, 29, 31, 33, 35, 37, 39, 41, 43, 45, 47, 49, 51, 53, 55, 57, 59, 61, 63, 65, 67, 69, 71, 73, 75, 77, 79]\n",
            "Sum of the first 35 modified odd numbers: 1575\n"
          ]
        }
      ],
      "source": [
        "list_of_numbers = list(range(0, 100))\n",
        "list_of_odd_numbers_plus_ten = []\n",
        "\n",
        "list_of_numbers = list(range(0, 100))  # Create a list of numbers from 0 to 99\n",
        "list_of_odd_numbers_plus_ten = []  # Initialize an empty list\n",
        "\n",
        "for num in list_of_numbers:\n",
        "    if num % 2 != 0:  # Check if the number is odd\n",
        "        list_of_odd_numbers_plus_ten.append(num + 10)  # Add 10 and store it\n",
        "        if len(list_of_odd_numbers_plus_ten) == 35:  # Stop at 35 numbers\n",
        "            break\n",
        "\n",
        "# Calculate and return the sum of the list\n",
        "sum_of_numbers = sum(list_of_odd_numbers_plus_ten)\n",
        "print(\"List of modified odd numbers:\", list_of_odd_numbers_plus_ten)\n",
        "print(\"Sum of the first 35 modified odd numbers:\", sum_of_numbers)\n"
      ]
    },
    {
      "cell_type": "markdown",
      "metadata": {
        "id": "jFlTmBX2XQk5"
      },
      "source": [
        "## Summary"
      ]
    },
    {
      "cell_type": "markdown",
      "metadata": {
        "id": "2-bwV6QYXQk5"
      },
      "source": [
        "In this lab, we practiced using `while` loops, which continue executing their block of code until the given condition is no longer true. This is useful for instances where we do not have a collection or do not need a collection to solve our problem, especially when we would only like to stop the process according to a certain condition. We then practiced using control flow statements, `break` and `continue`, to selectively operate on elements, append them to new lists, or assign them to new variables."
      ]
    }
  ],
  "metadata": {
    "kernelspec": {
      "display_name": "Python 3",
      "language": "python",
      "name": "python3"
    },
    "language_info": {
      "codemirror_mode": {
        "name": "ipython",
        "version": 3
      },
      "file_extension": ".py",
      "mimetype": "text/x-python",
      "name": "python",
      "nbconvert_exporter": "python",
      "pygments_lexer": "ipython3",
      "version": "3.6.6"
    },
    "toc": {
      "base_numbering": 1,
      "nav_menu": {},
      "number_sections": true,
      "sideBar": true,
      "skip_h1_title": false,
      "title_cell": "Table of Contents",
      "title_sidebar": "Contents",
      "toc_cell": false,
      "toc_position": {},
      "toc_section_display": true,
      "toc_window_display": false
    },
    "colab": {
      "provenance": [],
      "name": "whileloop.ipynb",
      "include_colab_link": true
    }
  },
  "nbformat": 4,
  "nbformat_minor": 0
}