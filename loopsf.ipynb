{
  "cells": [
    {
      "cell_type": "markdown",
      "metadata": {
        "id": "view-in-github",
        "colab_type": "text"
      },
      "source": [
        "<a href=\"https://colab.research.google.com/github/justicee-dev/assignment2/blob/main/loopsf.ipynb\" target=\"_parent\"><img src=\"https://colab.research.google.com/assets/colab-badge.svg\" alt=\"Open In Colab\"/></a>"
      ]
    },
    {
      "cell_type": "markdown",
      "metadata": {
        "id": "ua9ylu7HV4Z5"
      },
      "source": [
        "# Looping Over Collections - Lab\n",
        "\n",
        "## Introduction\n",
        "In this lab, we will be practicing what we know about `for` loops. We will use them to reduce the amount of code we write by hand to iterate through collections. We will use data from the excel file, `cities.xlsx`, that has data on different cities, their populations, and their areas. Finally, we will use this information to plot and compare each city. Let's get started!\n",
        "\n",
        "## Objectives\n",
        "\n",
        "You will be able to:\n",
        "\n",
        "* Use a `for` loop to iterate over a collection\n",
        "\n",
        "## Identifying When To Use a For Loop\n",
        "\n",
        "In the last lesson, we worked with some of our travel data.  Additional data has been compiled in the `cities.xlsx` excel spreadsheet. Let's retrieve this data from excel using the Pandas library. Don't worry if Pandas feels unfamiliar, it will be covered in detail later. For now, just follow the provided code and get a feel for what is happening. First, read the information from the excel file as a list of dictionaries, with each dictionary representing a location. Then, assign this list to the variable `cities`."
      ]
    },
    {
      "cell_type": "code",
      "execution_count": 9,
      "metadata": {
        "id": "TKNfAImkV4Z6",
        "outputId": "ae5749c8-5752-4e09-c17a-9537a5bda52d",
        "colab": {
          "base_uri": "https://localhost:8080/"
        }
      },
      "outputs": [
        {
          "output_type": "execute_result",
          "data": {
            "text/plain": [
              "[{'City': 'Solta', 'Country': 'Croatia', 'Population': 1700, 'Area': 59},\n",
              " {'City': 'Greenville', 'Country': 'USA', 'Population': 84554, 'Area': 68},\n",
              " {'City': 'Buenos Aires',\n",
              "  'Country': 'Argentina',\n",
              "  'Population': 13591863,\n",
              "  'Area': 4758},\n",
              " {'City': 'Los Cabos',\n",
              "  'Country': 'Mexico',\n",
              "  'Population': 287651,\n",
              "  'Area': 3750},\n",
              " {'City': 'Walla Walla Valley',\n",
              "  'Country': 'USA',\n",
              "  'Population': 32237,\n",
              "  'Area': 33},\n",
              " {'City': 'Marakesh', 'Country': 'Morocco', 'Population': 928850, 'Area': 200},\n",
              " {'City': 'Albuquerque',\n",
              "  'Country': 'New Mexico',\n",
              "  'Population': 559277,\n",
              "  'Area': 491},\n",
              " {'City': 'Archipelago Sea',\n",
              "  'Country': 'Finland',\n",
              "  'Population': 60000,\n",
              "  'Area': 8300},\n",
              " {'City': 'Iguazu Falls',\n",
              "  'Country': 'Argentina',\n",
              "  'Population': 0,\n",
              "  'Area': 672},\n",
              " {'City': 'Salina Island', 'Country': 'Italy', 'Population': 4000, 'Area': 27},\n",
              " {'City': 'Toronto', 'Country': 'Canada', 'Population': 630, 'Area': 2731571},\n",
              " {'City': 'Pyeongchang',\n",
              "  'Country': 'South Korea',\n",
              "  'Population': 2581000,\n",
              "  'Area': 3194}]"
            ]
          },
          "metadata": {},
          "execution_count": 9
        }
      ],
      "source": [
        "import pandas as pd\n",
        "file_name = './cities.xlsx'\n",
        "travel_df = pd.read_excel(file_name)\n",
        "cities = travel_df.to_dict('records')\n",
        "cities"
      ]
    },
    {
      "cell_type": "markdown",
      "metadata": {
        "id": "mMY8_H3qV4Z6"
      },
      "source": [
        "Next, retrieve the first three city names, stored as the `'City'` attribute of each dictionary, and `'Population'` of each of the cities.  Then plot the names as our `x_values` and the populations as our `y_values` using the `matplotlib` library. Again, don't worry about understanding all of the details behind what `matplotlib` is doing. It will be covered in more detail soon."
      ]
    },
    {
      "cell_type": "code",
      "execution_count": 23,
      "metadata": {
        "id": "kRNDVFBJV4Z6",
        "outputId": "ae945934-24af-403a-a1a1-1b7b6ceb5bf6",
        "colab": {
          "base_uri": "https://localhost:8080/",
          "height": 660
        }
      },
      "outputs": [
        {
          "output_type": "stream",
          "name": "stdout",
          "text": [
            "['Solta', 'Greenville', 'Buenos Aires'],[1700, 84554, 13591863]\n",
            "['Solta', 'Greenville', 'Buenos Aires'],[1700, 84554, 13591863]\n",
            "['Solta', 'Greenville', 'Buenos Aires'],[1700, 84554, 13591863]\n",
            "['Solta', 'Greenville', 'Buenos Aires'],[1700, 84554, 13591863]\n",
            "['Solta', 'Greenville', 'Buenos Aires'],[1700, 84554, 13591863]\n",
            "['Solta', 'Greenville', 'Buenos Aires'],[1700, 84554, 13591863]\n",
            "['Solta', 'Greenville', 'Buenos Aires'],[1700, 84554, 13591863]\n",
            "['Solta', 'Greenville', 'Buenos Aires'],[1700, 84554, 13591863]\n",
            "['Solta', 'Greenville', 'Buenos Aires'],[1700, 84554, 13591863]\n",
            "['Solta', 'Greenville', 'Buenos Aires'],[1700, 84554, 13591863]\n",
            "['Solta', 'Greenville', 'Buenos Aires'],[1700, 84554, 13591863]\n",
            "['Solta', 'Greenville', 'Buenos Aires'],[1700, 84554, 13591863]\n"
          ]
        },
        {
          "output_type": "display_data",
          "data": {
            "text/plain": [
              "<Figure size 640x480 with 1 Axes>"
            ],
            "image/png": "[encoded data removed]"
          },
          "metadata": {}
        }
      ],
      "source": [
        "import matplotlib.pyplot as plt\n",
        "\n",
        "%matplotlib inline\n",
        "\n",
        "x_values = [cities[0]['City'], cities[1]['City'], cities[2]['City']]\n",
        "y_values = [cities[0]['Population'], cities[1]['Population'], cities[2]['Population']]\n",
        "for c in cities:\n",
        " print(f\"{x_values},{y_values}\")\n",
        "\n",
        "\n",
        "plt.bar(x_values, y_values)\n",
        "plt.ylabel('Population')\n",
        "plt.title('City Populations')\n",
        "\n",
        "plt.show()"
      ]
    },
    {
      "cell_type": "markdown",
      "metadata": {
        "id": "b3v3qjMAV4Z6"
      },
      "source": [
        "Of course, as you may have spotted, there is a good amount of repetition in displaying this data.  Just take a look at how we retrieved the data for our `x_values` and `y_values`. And you'll notice that, unless we know the exact number of cities and populations in our excel file, this method of retrieving data might miss some data or try to access values that don't exist.\n",
        "\n",
        "We can take a close look at this below:"
      ]
    },
    {
      "cell_type": "code",
      "execution_count": null,
      "metadata": {
        "id": "ewEOeVtrV4Z6"
      },
      "outputs": [],
      "source": [
        "x_values = [cities[0]['City'], cities[1]['City'], cities[2]['City']]\n",
        "y_values = [cities[0]['Population'], cities[1]['Population'], cities[2]['Population']]"
      ]
    },
    {
      "cell_type": "markdown",
      "metadata": {
        "id": "0p4hEt9nV4Z6"
      },
      "source": [
        "As we can see, if we have any more than 3 lines of data, our `x_values` and `y_values` will be incomplete, and if we had only 2 lines of data, our code would break.\n",
        "\n",
        "So in this lesson, we will use `for` loop to display information about our travel locations with less repetition and more accuracy."
      ]
    },
    {
      "cell_type": "markdown",
      "metadata": {
        "id": "8mKcGH5_V4Z7"
      },
      "source": [
        "## Instructions"
      ]
    },
    {
      "cell_type": "markdown",
      "metadata": {
        "id": "SYIi5AscV4Z7"
      },
      "source": [
        "Before we get into creating graphs from our cities data, let's get a bit more comfortable with the data we are working with. Let's see if we can iterate through just one element (i.e. a city **dictionary** object) to get the **area**."
      ]
    },
    {
      "cell_type": "code",
      "execution_count": null,
      "metadata": {
        "id": "D8-DFR32V4Z7"
      },
      "outputs": [],
      "source": [
        "buenos_aires = cities[0]\n",
        "buenos_aires"
      ]
    },
    {
      "cell_type": "code",
      "execution_count": null,
      "metadata": {
        "id": "5b41SNEsV4Z7"
      },
      "outputs": [],
      "source": [
        "# here we want to find just the area of buenos_aires\n",
        "buenos_aires_area = None\n",
        "# code goes here\n",
        "\n",
        "buenos_aires_area"
      ]
    },
    {
      "cell_type": "markdown",
      "metadata": {
        "id": "cn-SbNpPV4Z7"
      },
      "source": [
        "Now that we have a bit more familiarity with our dictionaries, we can move to gathering all the information we need to create our traces.\n",
        "\n",
        "Our `cities` list contains information about the top 12 cities.  For our upcoming iteration tasks, it will be useful to have a list of the numbers 0 through 11.  Use what we know about `len` and `range`to generate a list of numbers 0 through 11.  Assign this to a variable called `city_indices`."
      ]
    },
    {
      "cell_type": "code",
      "execution_count": null,
      "metadata": {
        "id": "aOmpYkLZV4Z7"
      },
      "outputs": [],
      "source": [
        "city_indices = None\n",
        "city_indices # [0, 1, 2, 3, 4, 5, 6, 7, 8, 9, 10, 11]"
      ]
    },
    {
      "cell_type": "markdown",
      "metadata": {
        "id": "S5RESSvvV4Z7"
      },
      "source": [
        "Now, using the `cities` list, we want to create a list of the names for each city. Loop through each city and append it's name (`'City'`) to the `city_names` list."
      ]
    },
    {
      "cell_type": "code",
      "execution_count": null,
      "metadata": {
        "id": "HYRD18dEV4Z7"
      },
      "outputs": [],
      "source": [
        "city_names = []\n",
        "\n",
        "city_names"
      ]
    },
    {
      "cell_type": "markdown",
      "metadata": {
        "id": "NuCaFlxVV4Z7"
      },
      "source": [
        "Your task is to assign the variable `names_and_ranks` to a list, with each element equal to the city name and its corresponding rank.  For example, the first element would be, `\"1. Buenos Aires\"` and the second would be `\"2. Toronto\"`. Luckily for us, the list of cities that we read from our excel file is already in order by most populous to least. So, all we need to do is add numbers 1 through 12 to the beginning of each city name.\n",
        "\n",
        "Use a `for` loop and the lists `city_indices` and `city_names` to accomplish this.  We'll need to perform some nifty string interpolation to format our strings properly.  Check out [f-string interpolation](https://www.programiz.com/python-programming/string-interpolation#f) to see how we can pass values into a string.  Remember that list indices start at zero, but we want our `names_and_ranks` list to start at one!"
      ]
    },
    {
      "cell_type": "code",
      "execution_count": null,
      "metadata": {
        "id": "UUZlzNMgV4Z7"
      },
      "outputs": [],
      "source": [
        "names_and_ranks = []\n",
        "\n",
        "names_and_ranks\n",
        "# write a for loop that adds the properly formatted string to the names_and_ranks list"
      ]
    },
    {
      "cell_type": "code",
      "execution_count": null,
      "metadata": {
        "id": "jhrGrbV7V4Z7"
      },
      "outputs": [],
      "source": [
        "# run this cell to check that your output matches the format\n",
        "print(names_and_ranks[0]) # '1. Buenos Aires'\n",
        "print(names_and_ranks[1]) # '2. Toronto'\n",
        "print(names_and_ranks[-1]) # '12. Iguazu Falls'"
      ]
    },
    {
      "cell_type": "markdown",
      "metadata": {
        "id": "0mfIGAfAV4Z7"
      },
      "source": [
        "Ok, now use another `for` loop to iterate through our list of `cities` and create a new list called `city_populations` that has the population for each city (`Population`)."
      ]
    },
    {
      "cell_type": "code",
      "execution_count": null,
      "metadata": {
        "id": "DSeGhyGKV4Z7"
      },
      "outputs": [],
      "source": [
        "city_populations = []\n",
        "# use a for loop to iterate through the list of cities with their corresponding population"
      ]
    },
    {
      "cell_type": "code",
      "execution_count": null,
      "metadata": {
        "id": "i8CND2D2V4Z7"
      },
      "outputs": [],
      "source": [
        "print(city_populations[0]) # 2891000\n",
        "print(city_populations[1]) # 2800000\n",
        "print(city_populations[-1]) # 0"
      ]
    },
    {
      "cell_type": "markdown",
      "metadata": {
        "id": "s5ciD46CV4Z7"
      },
      "source": [
        "Great! Now we can begin to plot this data. Again, we'll used `matplotlib` to create a bar graph with our cities and their respective population data. To do this, we use the `.bar()` function and pass in our x-axis and y-axis values, add a label and title, and finally we call the `.show()` function to view our new bar graph.\n",
        "\n",
        "> **Note:** In the example below, we are adding a custom rotation for our x-axis labels so that they do not overlap."
      ]
    },
    {
      "cell_type": "code",
      "execution_count": null,
      "metadata": {
        "id": "4KwZ3-5xV4Z7"
      },
      "outputs": [],
      "source": [
        "plt.bar(names_and_ranks, city_populations)\n",
        "plt.xticks(rotation='vertical')\n",
        "plt.ylabel('Population')\n",
        "plt.title('City Populations')\n",
        "plt.show()"
      ]
    },
    {
      "cell_type": "markdown",
      "metadata": {
        "id": "gxmXwPgOV4Z7"
      },
      "source": [
        "Now we want declare a variable called `city_areas` that points to a list of all of the areas of the cities.  Let's use a `for` loop to iterate through our `cities` and have `city_areas` equal to each area of the city.  "
      ]
    },
    {
      "cell_type": "code",
      "execution_count": null,
      "metadata": {
        "id": "WPIoVemDV4Z7"
      },
      "outputs": [],
      "source": [
        "city_areas = []\n",
        "#write a for loop that adds the 'Area' of each city to the list city_areas"
      ]
    },
    {
      "cell_type": "markdown",
      "metadata": {
        "id": "Bz40-aRIV4Z7"
      },
      "source": [
        "Now that we have the city areas and populations, let's plot them to see how the size of each city compares to its population."
      ]
    },
    {
      "cell_type": "code",
      "execution_count": null,
      "metadata": {
        "id": "ERVRfRcvV4Z7"
      },
      "outputs": [],
      "source": [
        "plt.bar(names_and_ranks, city_populations)\n",
        "\n",
        "plt.ylabel('Population')\n",
        "plt.xlabel('Cities')\n",
        "plt.title('City Populations')\n",
        "plt.xticks(rotation='vertical')\n",
        "\n",
        "plt.show()"
      ]
    },
    {
      "cell_type": "code",
      "execution_count": null,
      "metadata": {
        "id": "T2AsRDyeV4Z7"
      },
      "outputs": [],
      "source": [
        "plt.bar(names_and_ranks, city_areas)\n",
        "plt.ylabel('Area')\n",
        "plt.xlabel('Cities')\n",
        "plt.title('City Areas')\n",
        "plt.xticks(rotation='vertical')\n",
        "\n",
        "plt.show()"
      ]
    },
    {
      "cell_type": "markdown",
      "metadata": {
        "id": "AMUA8dUDV4Z8"
      },
      "source": [
        "## Summary\n",
        "\n",
        "In this section we saw how we can use `for` loops to go through elements of a list and perform the same operation on each.  By using `for` loops we were able to reduce the amount of code that we wrote and write more expressive code."
      ]
    }
  ],
  "metadata": {
    "kernelspec": {
      "display_name": "Python 3.8.5 ('learn-env')",
      "language": "python",
      "name": "python3"
    },
    "language_info": {
      "codemirror_mode": {
        "name": "ipython",
        "version": 3
      },
      "file_extension": ".py",
      "mimetype": "text/x-python",
      "name": "python",
      "nbconvert_exporter": "python",
      "pygments_lexer": "ipython3",
      "version": "3.8.5"
    },
    "vscode": {
      "interpreter": {
        "hash": "7525ddc99344d304bee386e4294f627a69ef3ddf90a93199e89e426185c49e1b"
      }
    },
    "colab": {
      "provenance": [],
      "name": "loopsf.ipynb",
      "include_colab_link": true
    }
  },
  "nbformat": 4,
  "nbformat_minor": 0
}